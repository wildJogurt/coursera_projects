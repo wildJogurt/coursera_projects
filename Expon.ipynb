{
 "cells": [
  {
   "cell_type": "markdown",
   "metadata": {},
   "source": [
    "# ЦЕНТРАЛЬНАЯ ПРЕДЕЛЬНАЯ ТЕОРИЯ\n",
    "### Проверка центральной предельной теории с помощью экспоненциального распределения"
   ]
  },
  {
   "cell_type": "code",
   "execution_count": 1,
   "metadata": {},
   "outputs": [
    {
     "data": {
      "text/html": [
       "\n",
       "        <iframe\n",
       "            width=\"1000\"\n",
       "            height=\"400\"\n",
       "            src=\"https://ru.wikipedia.org/wiki/%D0%AD%D0%BA%D1%81%D0%BF%D0%BE%D0%BD%D0%B5%D0%BD%D1%86%D0%B8%D0%B0%D0%BB%D1%8C%D0%BD%D0%BE%D0%B5_%D1%80%D0%B0%D1%81%D0%BF%D1%80%D0%B5%D0%B4%D0%B5%D0%BB%D0%B5%D0%BD%D0%B8%D0%B5\"\n",
       "            frameborder=\"0\"\n",
       "            allowfullscreen\n",
       "        ></iframe>\n",
       "        "
      ],
      "text/plain": [
       "<IPython.lib.display.IFrame at 0x6dca048>"
      ]
     },
     "execution_count": 1,
     "metadata": {},
     "output_type": "execute_result"
    }
   ],
   "source": [
    "import numpy as np\n",
    "from scipy.stats import expon\n",
    "from matplotlib import pyplot as plt\n",
    "from math import exp, pi, sqrt\n",
    "from IPython.display import IFrame\n",
    "\n",
    "url = 'https://ru.wikipedia.org/wiki/%D0%AD%D0%BA%D1%81%D0%BF%D0%BE%D0%BD%D0%B5%D0%BD%D1%86%D0%B8%D0%B0%D0%BB%D1%8C%D0%BD%D0%BE%D0%B5_%D1%80%D0%B0%D1%81%D0%BF%D1%80%D0%B5%D0%B4%D0%B5%D0%BB%D0%B5%D0%BD%D0%B8%D0%B5'\n",
    "IFrame(url, width=1000, height=400)"
   ]
  },
  {
   "cell_type": "markdown",
   "metadata": {},
   "source": [
    "Функция expon генерирует экспоненциальное распределение, параметр scale, равный 1 по умолчанию, принимает значение 1 / lambda"
   ]
  },
  {
   "cell_type": "code",
   "execution_count": 2,
   "metadata": {},
   "outputs": [],
   "source": [
    "lam = 1.25\n",
    "expon_rv = expon(scale=1/lam)\n",
    "expon_test = expon_rv.rvs(1000) # создаём выборку объёмом 1000"
   ]
  },
  {
   "cell_type": "markdown",
   "metadata": {},
   "source": [
    "Посчитаем математическое ожидание и дисперсию по формулам: \n",
    "$$E[X] = \\frac{1}{\\lambda}$$\n",
    "$$D[X] = \\frac{1}{\\lambda^2}$$"
   ]
  },
  {
   "cell_type": "code",
   "execution_count": 3,
   "metadata": {},
   "outputs": [
    {
     "name": "stdout",
     "output_type": "stream",
     "text": [
      "Мат. ожидание: 0.8 \n",
      "Дисперсия: 0.64\n"
     ]
    }
   ],
   "source": [
    "expon_mean = 1 / lam\n",
    "expon_var = 1 / lam**2\n",
    "print 'Мат. ожидание:', expon_mean, '\\nДисперсия:', expon_var"
   ]
  },
  {
   "cell_type": "markdown",
   "metadata": {},
   "source": [
    "Далее построим график функции экспоненчиального распределения"
   ]
  },
  {
   "cell_type": "code",
   "execution_count": 4,
   "metadata": {},
   "outputs": [
    {
     "data": {
      "text/plain": [
       "Text(0.5,0,'$x$')"
      ]
     },
     "execution_count": 4,
     "metadata": {},
     "output_type": "execute_result"
    },
    {
     "data": {
      "image/png": "[encoded data removed]",
      "text/plain": [
       "<Figure size 432x288 with 1 Axes>"
      ]
     },
     "metadata": {
      "needs_background": "light"
     },
     "output_type": "display_data"
    }
   ],
   "source": [
    "x1 = np.linspace(0,10,200)\n",
    "cdf_test1 = expon_rv.cdf(x1)\n",
    "plt.plot(x1, cdf_test1, label='x1')\n",
    "plt.ylabel('$F(x)$')\n",
    "plt.xlabel('$x$')"
   ]
  },
  {
   "cell_type": "markdown",
   "metadata": {},
   "source": [
    "Теперь посмотрим график плоности нашей функции распределения и гистограмму"
   ]
  },
  {
   "cell_type": "code",
   "execution_count": 5,
   "metadata": {},
   "outputs": [
    {
     "name": "stderr",
     "output_type": "stream",
     "text": [
      "D:\\Anaconda2\\lib\\site-packages\\matplotlib\\axes\\_axes.py:6571: UserWarning: The 'normed' kwarg is deprecated, and has been replaced by the 'density' kwarg.\n",
      "  warnings.warn(\"The 'normed' kwarg is deprecated, and has been \"\n"
     ]
    },
    {
     "data": {
      "text/plain": [
       "Text(0.5,0,'$x$')"
      ]
     },
     "execution_count": 5,
     "metadata": {},
     "output_type": "execute_result"
    },
    {
     "data": {
      "image/png": "[encoded data removed]",
      "text/plain": [
       "<Figure size 432x288 with 1 Axes>"
      ]
     },
     "metadata": {
      "needs_background": "light"
     },
     "output_type": "display_data"
    }
   ],
   "source": [
    "x = np.linspace(0,8,100)\n",
    "pdf = expon_rv.pdf(x)\n",
    "plt.hist(expon_test, normed=True, color='#bbacd9')\n",
    "plt.plot(x, pdf, color='#000080')\n",
    "plt.ylabel('$f(x)$')\n",
    "plt.xlabel('$x$')"
   ]
  },
  {
   "cell_type": "markdown",
   "metadata": {},
   "source": [
    "Так как мы будем генерировать выборку из средних при различных значениях n, создадим функцию norm_from_other, принимающую на вход объём выборок (size) и тип распределения (rv), и с её помощью будем генерировать выборки средних в виде numpy.array"
   ]
  },
  {
   "cell_type": "code",
   "execution_count": 6,
   "metadata": {},
   "outputs": [],
   "source": [
    "def norm_from_other(size, rv):\n",
    "    rv_to_norm = []\n",
    "    for i in range(1000):\n",
    "        rv_to_norm.append(sum(rv.rvs(size))/size)\n",
    "    return np.array(rv_to_norm)"
   ]
  },
  {
   "cell_type": "markdown",
   "metadata": {},
   "source": [
    "Также создадим функцию, которая будет считать плотность нормального распределения"
   ]
  },
  {
   "cell_type": "code",
   "execution_count": 7,
   "metadata": {},
   "outputs": [],
   "source": [
    "def impro_pdf(x, mean, var):\n",
    "    return 1 / sqrt(var * 2 * pi) * exp(-1 * (x - mean)**2 / (2 * var))"
   ]
  },
  {
   "cell_type": "markdown",
   "metadata": {},
   "source": [
    "Объём выборок в первом наборе = 5, мат. ожидание берём от исходного распределния, а дисперсию получаем путём деления дисперсии исходной функции на объём выборок, согласно ЦПТ"
   ]
  },
  {
   "cell_type": "code",
   "execution_count": 8,
   "metadata": {},
   "outputs": [
    {
     "name": "stdout",
     "output_type": "stream",
     "text": [
      "Мат. ожидание при n = 5: 0.8 \n",
      "Дисперсия при n = 5: 0.128\n"
     ]
    }
   ],
   "source": [
    "n1 = 5\n",
    "n1_var = expon_var / n1\n",
    "print 'Мат. ожидание при n = 5:', expon_mean, '\\nДисперсия при n = 5:', n1_var"
   ]
  },
  {
   "cell_type": "markdown",
   "metadata": {},
   "source": [
    "Далее построим график и гистограмму плотности получившегося распределения, уже при n = 5 оно напоминает нормальное распределения, сдвинутое влево"
   ]
  },
  {
   "cell_type": "code",
   "execution_count": 9,
   "metadata": {},
   "outputs": [
    {
     "data": {
      "text/plain": [
       "Text(0.5,0,'$x$')"
      ]
     },
     "execution_count": 9,
     "metadata": {},
     "output_type": "execute_result"
    },
    {
     "data": {
      "image/png": "[encoded data removed]",
      "text/plain": [
       "<Figure size 432x288 with 1 Axes>"
      ]
     },
     "metadata": {
      "needs_background": "light"
     },
     "output_type": "display_data"
    }
   ],
   "source": [
    "exp_norm5 = norm_from_other(n1, expon_rv)\n",
    "plt.hist(exp_norm5, normed=True, color='#bbacd9')\n",
    "x = np.linspace(0,3,100)\n",
    "n1_pdf = np.array([impro_pdf(i, expon_mean, n1_var) for i in x])\n",
    "plt.plot(x, n1_pdf, color='#000080')\n",
    "plt.ylabel('$f(x)$')\n",
    "plt.xlabel('$x$')"
   ]
  },
  {
   "cell_type": "markdown",
   "metadata": {},
   "source": [
    "Повторим ту же процедуру для выборок, увеличивая значение n и понаблюдаем за графиками"
   ]
  },
  {
   "cell_type": "code",
   "execution_count": 10,
   "metadata": {},
   "outputs": [
    {
     "name": "stdout",
     "output_type": "stream",
     "text": [
      "Мат. ожидание при n = 10: 0.8 \n",
      "Дисперсия при n = 10: 0.064\n"
     ]
    }
   ],
   "source": [
    "n2 = 10\n",
    "n2_var = expon_var / n2\n",
    "print 'Мат. ожидание при n = 10:', expon_mean, '\\nДисперсия при n = 10:', n2_var"
   ]
  },
  {
   "cell_type": "markdown",
   "metadata": {},
   "source": [
    "В данном примере мы видим, как увеличивает точность аппроксимации распределения и сужается график, в последующих примерах мы увидим ещё большую разницу"
   ]
  },
  {
   "cell_type": "code",
   "execution_count": 11,
   "metadata": {},
   "outputs": [
    {
     "data": {
      "text/plain": [
       "Text(0.5,0,'$x$')"
      ]
     },
     "execution_count": 11,
     "metadata": {},
     "output_type": "execute_result"
    },
    {
     "data": {
      "image/png": "[encoded data removed]",
      "text/plain": [
       "<Figure size 432x288 with 1 Axes>"
      ]
     },
     "metadata": {
      "needs_background": "light"
     },
     "output_type": "display_data"
    }
   ],
   "source": [
    "exp_norm10 = norm_from_other(n2, expon_rv)\n",
    "plt.hist(exp_norm10, normed=True, color='#bbacd9')\n",
    "n2_pdf = np.array([impro_pdf(i, expon_mean, n2_var) for i in x])\n",
    "plt.plot(x, n2_pdf, color='#000080')\n",
    "plt.ylabel('$f(x)$')\n",
    "plt.xlabel('$x$')"
   ]
  },
  {
   "cell_type": "code",
   "execution_count": 12,
   "metadata": {},
   "outputs": [
    {
     "name": "stdout",
     "output_type": "stream",
     "text": [
      "Мат. ожидание при n = 50: 0.8 \n",
      "Дисперсия при n = 50: 0.0128\n"
     ]
    }
   ],
   "source": [
    "n3 = 50\n",
    "n3_var = expon_var / n3\n",
    "print 'Мат. ожидание при n = 50:', expon_mean, '\\nДисперсия при n = 50:', n3_var"
   ]
  },
  {
   "cell_type": "code",
   "execution_count": 13,
   "metadata": {},
   "outputs": [
    {
     "data": {
      "text/plain": [
       "Text(0.5,0,'$x$')"
      ]
     },
     "execution_count": 13,
     "metadata": {},
     "output_type": "execute_result"
    },
    {
     "data": {
      "image/png": "[encoded data removed]",
      "text/plain": [
       "<Figure size 432x288 with 1 Axes>"
      ]
     },
     "metadata": {
      "needs_background": "light"
     },
     "output_type": "display_data"
    }
   ],
   "source": [
    "exp_norm50 = norm_from_other(50, expon_rv)\n",
    "plt.hist(exp_norm50, normed=True, color='#bbacd9')\n",
    "n3_pdf = np.array([impro_pdf(i, expon_mean, n3_var) for i in x])\n",
    "plt.plot(x, n3_pdf, color='#000080')\n",
    "plt.ylabel('$f(x)$')\n",
    "plt.xlabel('$x$')"
   ]
  },
  {
   "cell_type": "code",
   "execution_count": 14,
   "metadata": {},
   "outputs": [
    {
     "name": "stdout",
     "output_type": "stream",
     "text": [
      "Мат. ожидание при n = 100: 0.8 \n",
      "Дисперсия при n = 100: 0.0064\n"
     ]
    }
   ],
   "source": [
    "n4 = 100\n",
    "n4_var = expon_var / n4\n",
    "print 'Мат. ожидание при n = 100:', expon_mean, '\\nДисперсия при n = 100:', n4_var"
   ]
  },
  {
   "cell_type": "code",
   "execution_count": 15,
   "metadata": {},
   "outputs": [
    {
     "data": {
      "text/plain": [
       "Text(0.5,0,'$x$')"
      ]
     },
     "execution_count": 15,
     "metadata": {},
     "output_type": "execute_result"
    },
    {
     "data": {
      "image/png": "[encoded data removed]",
      "text/plain": [
       "<Figure size 432x288 with 1 Axes>"
      ]
     },
     "metadata": {
      "needs_background": "light"
     },
     "output_type": "display_data"
    }
   ],
   "source": [
    "exp_norm100 = norm_from_other(100, expon_rv)\n",
    "plt.hist(exp_norm100, normed=True, color='#bbacd9')\n",
    "n4_pdf = np.array([impro_pdf(i, expon_mean, n4_var) for i in x])\n",
    "plt.plot(x, n4_pdf, color='#000080')\n",
    "plt.ylabel('$f(x)$')\n",
    "plt.xlabel('$x$')"
   ]
  },
  {
   "cell_type": "code",
   "execution_count": 16,
   "metadata": {},
   "outputs": [
    {
     "name": "stdout",
     "output_type": "stream",
     "text": [
      "Мат. ожидание при n = 1000: 0.8 \n",
      "Дисперсия при n = 1000: 0.00064\n"
     ]
    }
   ],
   "source": [
    "n5 = 1000\n",
    "n5_var = expon_var / n5\n",
    "print 'Мат. ожидание при n = 1000:', expon_mean, '\\nДисперсия при n = 1000:', n5_var"
   ]
  },
  {
   "cell_type": "code",
   "execution_count": 17,
   "metadata": {},
   "outputs": [
    {
     "data": {
      "text/plain": [
       "Text(0.5,0,'$x$')"
      ]
     },
     "execution_count": 17,
     "metadata": {},
     "output_type": "execute_result"
    },
    {
     "data": {
      "image/png": "[encoded data removed]",
      "text/plain": [
       "<Figure size 432x288 with 1 Axes>"
      ]
     },
     "metadata": {
      "needs_background": "light"
     },
     "output_type": "display_data"
    }
   ],
   "source": [
    "exp_norm1000 = norm_from_other(1000, expon_rv)\n",
    "plt.hist(exp_norm1000, normed=True, color='#bbacd9')\n",
    "n5_pdf = np.array([impro_pdf(i, expon_mean, n5_var) for i in x])\n",
    "plt.plot(x, n5_pdf, color='#000080')\n",
    "plt.ylabel('$f(x)$')\n",
    "plt.xlabel('$x$')"
   ]
  },
  {
   "cell_type": "markdown",
   "metadata": {},
   "source": [
    "На основе предыдущих примеров можно увидеть, что рост точности аппросимации замедляется, например разница между графиками при n = 10 и n = 50 куда заметнее, чем разница между 50 и 100\n",
    "\n",
    "Следующий график приведён для наглядности данного свойства, при n = 1000 график заметно стал уже, но не настолько сильно, как мог, если бы рост точности аппросимации принимал бы значение как при разнице между 10 и 50\n",
    "\n",
    "Точность гистограмм и графиков в увеличением n всё больше совпадает\n",
    "\n",
    "Увеличение точности аппроксимации графиков обусловлено увеличением количества различных значений в выбор, соотвественно, средние значения разных выборок становятся всё более схожи, отсюда мы можем также заметить рост значения f(x)"
   ]
  }
 ],
 "metadata": {
  "kernelspec": {
   "display_name": "Python 2",
   "language": "python",
   "name": "python2"
  },
  "language_info": {
   "codemirror_mode": {
    "name": "ipython",
    "version": 2
   },
   "file_extension": ".py",
   "mimetype": "text/x-python",
   "name": "python",
   "nbconvert_exporter": "python",
   "pygments_lexer": "ipython2",
   "version": "2.7.16"
  }
 },
 "nbformat": 4,
 "nbformat_minor": 2
}
